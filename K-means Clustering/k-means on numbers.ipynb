{
 "cells": [
  {
   "cell_type": "code",
   "execution_count": 10,
   "metadata": {},
   "outputs": [
    {
     "name": "stdout",
     "output_type": "stream",
     "text": [
      "[10, 20, 15, 18, 91, 48, 61, 17, 24, 39, 65, 43]\n"
     ]
    }
   ],
   "source": [
    "#importing data\n",
    "import csv\n",
    "data = []\n",
    "with open('kmeans1datapoints.csv') as csv_file:\n",
    "    csv_reader = csv.reader(csv_file, delimiter=',')\n",
    "    for row in csv_reader:\n",
    "        for num in row:\n",
    "            data.append(int(num))\n",
    "print(data)"
   ]
  },
  {
   "cell_type": "code",
   "execution_count": 11,
   "metadata": {},
   "outputs": [
    {
     "name": "stdout",
     "output_type": "stream",
     "text": [
      "Enter the number of clusters : 3\n",
      "Randomly chosen clusters are : [91, 17, 24]\n",
      "Clusters list : [[], [], []]\n",
      "Distance list : [0, 0, 0]\n",
      "The number of clusters you choose : 3\n"
     ]
    }
   ],
   "source": [
    "# k-means\n",
    "import random\n",
    "dist= []\n",
    "clusters = []\n",
    "centroids = []\n",
    "k = 0\n",
    "k=int(input(\"Enter the number of clusters : \"))\n",
    "\n",
    "for i in range(k):\n",
    "    random_centroid = random.choice(data)\n",
    "    centroids.append(random_centroid)\n",
    "    clusters.append([])\n",
    "    dist.append(0)\n",
    "\n",
    "    \n",
    "print(\"Randomly chosen clusters are : \"+str(centroids))\n",
    "print(\"Clusters list : \"+str(clusters))\n",
    "print(\"Distance list : \"+str(dist))\n",
    "print(\"The number of clusters you choose : \"+str(k))"
   ]
  },
  {
   "cell_type": "code",
   "execution_count": 12,
   "metadata": {},
   "outputs": [],
   "source": [
    "flag = True\n",
    "\n",
    "while flag:\n",
    "    for num in data:\n",
    "        for i in range(k):\n",
    "            dist[i]=abs(num-centroids[i])\n",
    "        \n",
    "        i= dist.index(min(dist))\n",
    "        for j in range(k):\n",
    "            if(num in clusters[j]):\n",
    "                clusters[j].remove(num)\n",
    "                \n",
    "        clusters[i].append(num)\n",
    "    \n",
    "    count_k =0\n",
    "    for i in range(k):\n",
    "        avg = float(sum(clusters[i])/len(clusters[i]))\n",
    "        if(avg==centroids[i]):\n",
    "            count_k+=1\n",
    "        centroids[i] =avg\n",
    "    \n",
    "    if(count_k == k):\n",
    "        flag = False\n"
   ]
  },
  {
   "cell_type": "code",
   "execution_count": 13,
   "metadata": {},
   "outputs": [
    {
     "name": "stdout",
     "output_type": "stream",
     "text": [
      "The clusters are:\n",
      "cluster 0:\n",
      "[91, 61, 65]\n",
      "cluster 1:\n",
      "[10, 20, 15, 18, 17, 24]\n",
      "cluster 2:\n",
      "[48, 39, 43]\n"
     ]
    }
   ],
   "source": [
    "print(\"The clusters are:\")\n",
    "for i in range(k):\n",
    "    print(\"cluster \"+str(i)+\":\")\n",
    "    print(clusters[i])"
   ]
  },
  {
   "cell_type": "code",
   "execution_count": null,
   "metadata": {},
   "outputs": [],
   "source": []
  }
 ],
 "metadata": {
  "kernelspec": {
   "display_name": "Python 3",
   "language": "python",
   "name": "python3"
  },
  "language_info": {
   "codemirror_mode": {
    "name": "ipython",
    "version": 3
   },
   "file_extension": ".py",
   "mimetype": "text/x-python",
   "name": "python",
   "nbconvert_exporter": "python",
   "pygments_lexer": "ipython3",
   "version": "3.8.5"
  }
 },
 "nbformat": 4,
 "nbformat_minor": 4
}
